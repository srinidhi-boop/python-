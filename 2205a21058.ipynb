{
  "nbformat": 4,
  "nbformat_minor": 0,
  "metadata": {
    "colab": {
      "provenance": [],
      "authorship_tag": "ABX9TyMBZcdSeFshUzX2bOsLuOTt",
      "include_colab_link": true
    },
    "kernelspec": {
      "name": "python3",
      "display_name": "Python 3"
    },
    "language_info": {
      "name": "python"
    }
  },
  "cells": [
    {
      "cell_type": "markdown",
      "metadata": {
        "id": "view-in-github",
        "colab_type": "text"
      },
      "source": [
        "<a href=\"https://colab.research.google.com/github/srinidhi-boop/python-/blob/main/2205a21058.ipynb\" target=\"_parent\"><img src=\"https://colab.research.google.com/assets/colab-badge.svg\" alt=\"Open In Colab\"/></a>"
      ]
    },
    {
      "cell_type": "code",
      "execution_count": 2,
      "metadata": {
        "colab": {
          "base_uri": "https://localhost:8080/"
        },
        "id": "SV4O5nbamEZy",
        "outputId": "5eb16a92-dc45-4dbb-95e5-d3702697331f"
      },
      "outputs": [
        {
          "output_type": "stream",
          "name": "stdout",
          "text": [
            "enter the transformer ratting in voltamperes: 5000\n",
            "enter the primary voltage in volts: 220\n",
            "enter the secondary voltage in volts: 440\n",
            "enter the open ckt test voltage in volts: 220\n",
            "enter the open ckt test current in amperes: 2\n",
            "enter the open ckt test power in watts: 250\n",
            "enter the short ckt test voltage in volts: 75\n",
            "enter the short ckt test current in amperes: 10\n",
            "enter the short ckt test power in watts: 500\n",
            "enter the power factor of the transformer: 1\n",
            "enter the loading of a transformer: 1\n",
            "ro= 193.6\n",
            "xo= 133.67309875319802\n",
            "rhv= 5.0\n",
            "xhv= 15.0\n",
            "copperlosses= 500.0\n",
            "eficiency= 86.95652173913044\n"
          ]
        }
      ],
      "source": [
        "import transformer\n",
        "r=float(input('enter the transformer ratting in voltamperes: '))\n",
        "pv=float(input('enter the primary voltage in volts: '))\n",
        "sv=float(input('enter the secondary voltage in volts: '))\n",
        "vo=float(input('enter the open ckt test voltage in volts: '))\n",
        "io=float(input('enter the open ckt test current in amperes: '))\n",
        "wo=float(input('enter the open ckt test power in watts: '))\n",
        "vsc=float(input('enter the short ckt test voltage in volts: '))\n",
        "isc=float(input('enter the short ckt test current in amperes: '))\n",
        "wsc=float(input('enter the short ckt test power in watts: '))\n",
        "pf=float(input('enter the power factor of the transformer: '))\n",
        "x=float(input('enter the loading of a transformer: '))\n",
        "[ro,xo]=transformer.oc(vo,io,wo)\n",
        "[rhv,xhv]=transformer.sc(vsc,isc,wsc)\n",
        "[efficiency,xcu]=transformer.eff(r,wo,wsc,x,pf)\n",
        "print(\"ro=\",ro)\n",
        "print(\"xo=\",xo)\n",
        "print(\"rhv=\",rhv)\n",
        "print(\"xhv=\",xhv)\n",
        "print(\"copperlosses=\",xcu)\n",
        "print(\"eficiency=\",efficiency)"
      ]
    }
  ]
}